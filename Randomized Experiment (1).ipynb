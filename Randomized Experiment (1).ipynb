{
 "cells": [
  {
   "cell_type": "code",
   "execution_count": 2,
   "id": "eea3f2e0",
   "metadata": {},
   "outputs": [],
   "source": [
    "import pandas as pd\n",
    "import numpy as np\n",
    "import random\n",
    "import matplotlib.pyplot as plt\n",
    "import statsmodels.api as sm\n",
    "import networkx as nx"
   ]
  },
  {
   "cell_type": "markdown",
   "id": "3f3a33cd",
   "metadata": {},
   "source": [
    "$Y_i = a+b*X_i+e_i$"
   ]
  },
  {
   "cell_type": "markdown",
   "id": "9519cee0",
   "metadata": {},
   "source": [
    "***Without Covariates***"
   ]
  },
  {
   "cell_type": "code",
   "execution_count": 3,
   "id": "17cfe218",
   "metadata": {},
   "outputs": [
    {
     "data": {
      "text/plain": [
       "(array([ 2.,  4., 13., 17., 18., 23., 18.,  3.,  1.,  1.]),\n",
       " array([-8.51277955, -6.45968934, -4.40659912, -2.35350891, -0.3004187 ,\n",
       "         1.75267152,  3.80576173,  5.85885194,  7.91194216,  9.96503237,\n",
       "        12.01812258]),\n",
       " <BarContainer object of 10 artists>)"
      ]
     },
     "execution_count": 3,
     "metadata": {},
     "output_type": "execute_result"
    },
    {
     "data": {
      "image/png": "[encoded data removed]",
      "text/plain": [
       "<Figure size 432x288 with 1 Axes>"
      ]
     },
     "metadata": {
      "needs_background": "light"
     },
     "output_type": "display_data"
    }
   ],
   "source": [
    "a = .5\n",
    "b = 1.2\n",
    "n = 100\n",
    "slopes = []\n",
    "for mc in range(100):\n",
    "    # X is randomly assigned 0 or 1. True randomization\n",
    "    X = np.random.uniform(0,1,n)\n",
    "    e = np.random.normal(0,10,n)\n",
    "    Y = a+b*X+e\n",
    "    model = sm.OLS(Y,sm.add_constant(X))\n",
    "    residuals = model.fit()\n",
    "    slopes = slopes + [residuals.params[1]]\n",
    "    \n",
    "np.mean(slopes)\n",
    "plt.hist(slopes)"
   ]
  },
  {
   "cell_type": "markdown",
   "id": "87df86d3",
   "metadata": {},
   "source": [
    "DAG"
   ]
  },
  {
   "cell_type": "code",
   "execution_count": 4,
   "id": "70f67245",
   "metadata": {},
   "outputs": [
    {
     "data": {
      "image/png": "[encoded data removed]",
      "text/plain": [
       "<Figure size 432x288 with 1 Axes>"
      ]
     },
     "metadata": {},
     "output_type": "display_data"
    }
   ],
   "source": [
    "graph = nx.DiGraph()\n",
    "graph.add_edges_from([(\"T\", \"Y\"), (\"e\", \"Y\")])\n",
    "plt.tight_layout()\n",
    "nx.draw_networkx(graph, arrows=True)\n",
    "plt.savefig(\"g1.png\", format=\"PNG\")"
   ]
  },
  {
   "cell_type": "code",
   "execution_count": 5,
   "id": "5c54b765",
   "metadata": {},
   "outputs": [
    {
     "name": "stdout",
     "output_type": "stream",
     "text": [
      "                            OLS Regression Results                            \n",
      "==============================================================================\n",
      "Dep. Variable:                      y   R-squared:                       0.009\n",
      "Model:                            OLS   Adj. R-squared:                 -0.001\n",
      "Method:                 Least Squares   F-statistic:                    0.8780\n",
      "Date:                Mon, 11 Apr 2022   Prob (F-statistic):              0.351\n",
      "Time:                        11:18:40   Log-Likelihood:                -370.80\n",
      "No. Observations:                 100   AIC:                             745.6\n",
      "Df Residuals:                      98   BIC:                             750.8\n",
      "Df Model:                           1                                         \n",
      "Covariance Type:            nonrobust                                         \n",
      "==============================================================================\n",
      "                 coef    std err          t      P>|t|      [0.025      0.975]\n",
      "------------------------------------------------------------------------------\n",
      "const         -3.1100      2.020     -1.539      0.127      -7.119       0.899\n",
      "x1             3.2659      3.485      0.937      0.351      -3.651      10.183\n",
      "==============================================================================\n",
      "Omnibus:                        1.253   Durbin-Watson:                   1.777\n",
      "Prob(Omnibus):                  0.534   Jarque-Bera (JB):                1.144\n",
      "Skew:                           0.259   Prob(JB):                        0.564\n",
      "Kurtosis:                       2.921   Cond. No.                         4.45\n",
      "==============================================================================\n",
      "\n",
      "Notes:\n",
      "[1] Standard Errors assume that the covariance matrix of the errors is correctly specified.\n"
     ]
    }
   ],
   "source": [
    "mod = sm.OLS(Y, sm.add_constant(X))\n",
    "res = mod.fit()\n",
    "print(res.summary())"
   ]
  },
  {
   "cell_type": "markdown",
   "id": "74e59b3f",
   "metadata": {},
   "source": [
    "DAG"
   ]
  },
  {
   "cell_type": "code",
   "execution_count": 6,
   "id": "31aca8f7",
   "metadata": {},
   "outputs": [
    {
     "data": {
      "text/plain": [
       "3.2659310840850493"
      ]
     },
     "execution_count": 6,
     "metadata": {},
     "output_type": "execute_result"
    }
   ],
   "source": [
    "slope_estimates = []\n",
    "res.params[1]"
   ]
  },
  {
   "cell_type": "markdown",
   "id": "54d5f203",
   "metadata": {},
   "source": [
    "Monte Carlo 100"
   ]
  },
  {
   "cell_type": "code",
   "execution_count": 7,
   "id": "131a1dbf",
   "metadata": {},
   "outputs": [
    {
     "name": "stdout",
     "output_type": "stream",
     "text": [
      "The RSME is 1.7207799336458527 . The bias is 1.7207799336458527 . The treatment effect is 1.1827922006635412\n"
     ]
    }
   ],
   "source": [
    "sum_of_bias=0\n",
    "for mc_replication in range(100):\n",
    "    X = np.random.randint(0,2,n)\n",
    "    e = np.random.normal(0,1,n)\n",
    "    Y = a+b*X+e\n",
    "    mod = sm.OLS(Y, sm.add_constant(X))\n",
    "    res = mod.fit()\n",
    "    slope_estimates = slope_estimates + [res.params[1]]\n",
    "    bias  = b - res.params[1]\n",
    "    sum_of_bias= sum_of_bias+bias\n",
    "meanbias= np.mean(sum_of_bias)\n",
    "rsme =  np.sqrt(np.mean(sum_of_bias**2))\n",
    "treatment_effect = sum(slope_estimates) / len(slope_estimates)\n",
    "print(\"The RSME is\", rsme,\". The bias is\", meanbias,\". The treatment effect is\", treatment_effect)"
   ]
  },
  {
   "cell_type": "code",
   "execution_count": 8,
   "id": "26ae908f",
   "metadata": {},
   "outputs": [
    {
     "data": {
      "text/plain": [
       "(array([ 4.,  6., 12., 14., 23., 25.,  9.,  5.,  1.,  1.]),\n",
       " array([0.62788961, 0.75228609, 0.87668256, 1.00107904, 1.12547551,\n",
       "        1.24987198, 1.37426846, 1.49866493, 1.62306141, 1.74745788,\n",
       "        1.87185435]),\n",
       " <BarContainer object of 10 artists>)"
      ]
     },
     "execution_count": 8,
     "metadata": {},
     "output_type": "execute_result"
    },
    {
     "data": {
      "image/png": "[encoded data removed]",
      "text/plain": [
       "<Figure size 432x288 with 1 Axes>"
      ]
     },
     "metadata": {
      "needs_background": "light"
     },
     "output_type": "display_data"
    }
   ],
   "source": [
    "plt.hist(slope_estimates)"
   ]
  },
  {
   "cell_type": "markdown",
   "id": "c494c4ae",
   "metadata": {},
   "source": [
    "Monte Carlo 1000"
   ]
  },
  {
   "cell_type": "code",
   "execution_count": 9,
   "id": "962a45f6",
   "metadata": {},
   "outputs": [
    {
     "name": "stdout",
     "output_type": "stream",
     "text": [
      "The RSME is 6.456953432972498 . The bias is 6.456953432972498 . The treatment effect is 1.1925656969394391\n"
     ]
    }
   ],
   "source": [
    "sum_of_bias=0\n",
    "for mc_replication in range(1000):\n",
    "    X = np.random.randint(0,2,n)\n",
    "    e = np.random.normal(0,1,n)\n",
    "    Y = a+b*X+e\n",
    "    mod = sm.OLS(Y, sm.add_constant(X))\n",
    "    res = mod.fit()\n",
    "    slope_estimates = slope_estimates + [res.params[1]]\n",
    "    bias  = b - res.params[1]\n",
    "    sum_of_bias= sum_of_bias+bias\n",
    "meanbias= np.mean(sum_of_bias)\n",
    "rsme =  np.sqrt(np.mean(sum_of_bias**2))\n",
    "treatment_effect = sum(slope_estimates) / len(slope_estimates)\n",
    "print(\"The RSME is\", rsme,\". The bias is\", meanbias,\". The treatment effect is\", treatment_effect)"
   ]
  },
  {
   "cell_type": "code",
   "execution_count": 10,
   "id": "933928bd",
   "metadata": {
    "scrolled": true
   },
   "outputs": [
    {
     "data": {
      "text/plain": [
       "(array([ 16.,  39., 116., 204., 283., 241., 133.,  49.,  15.,   4.]),\n",
       " array([0.61418675, 0.73995351, 0.86572027, 0.99148703, 1.11725379,\n",
       "        1.24302055, 1.36878731, 1.49455407, 1.62032083, 1.74608759,\n",
       "        1.87185435]),\n",
       " <BarContainer object of 10 artists>)"
      ]
     },
     "execution_count": 10,
     "metadata": {},
     "output_type": "execute_result"
    },
    {
     "data": {
      "image/png": "[encoded data removed]",
      "text/plain": [
       "<Figure size 432x288 with 1 Axes>"
      ]
     },
     "metadata": {
      "needs_background": "light"
     },
     "output_type": "display_data"
    }
   ],
   "source": [
    "plt.hist(slope_estimates)"
   ]
  },
  {
   "cell_type": "markdown",
   "id": "0011c99d",
   "metadata": {},
   "source": [
    "A real life situation is any scenario where treatment assignment is truly random. So, if an experiment is run and the treatment is assigned on a lottery system, there is no need to control or add covariates."
   ]
  },
  {
   "cell_type": "markdown",
   "id": "c29b3b07",
   "metadata": {},
   "source": [
    "***With Covariates***"
   ]
  },
  {
   "cell_type": "markdown",
   "id": "783c4aef",
   "metadata": {},
   "source": [
    "DAG"
   ]
  },
  {
   "cell_type": "code",
   "execution_count": 11,
   "id": "51e02a03",
   "metadata": {},
   "outputs": [
    {
     "data": {
      "image/png": "[encoded data removed]",
      "text/plain": [
       "<Figure size 432x288 with 1 Axes>"
      ]
     },
     "metadata": {},
     "output_type": "display_data"
    }
   ],
   "source": [
    "graph_cov = nx.DiGraph()\n",
    "graph_cov.add_edges_from([(\"T\", \"Y\"), (\"e\", \"Y\"), (\"X\", \"Y\")])\n",
    "plt.tight_layout()\n",
    "nx.draw_networkx(graph_cov, arrows=True)\n",
    "plt.savefig(\"g1.png\", format=\"PNG\")"
   ]
  },
  {
   "cell_type": "markdown",
   "id": "28aef296",
   "metadata": {},
   "source": [
    "Monte Carlo 100"
   ]
  },
  {
   "cell_type": "code",
   "execution_count": 15,
   "id": "c9550c0d",
   "metadata": {},
   "outputs": [
    {
     "name": "stderr",
     "output_type": "stream",
     "text": [
      "/Users/polly/opt/anaconda3/lib/python3.9/site-packages/statsmodels/tsa/tsatools.py:142: FutureWarning: In a future version of pandas all arguments of concat except for the argument 'objs' will be keyword-only\n",
      "  x = pd.concat(x[::order], 1)\n"
     ]
    },
    {
     "name": "stdout",
     "output_type": "stream",
     "text": [
      "The RSME is 1410.8692878510474 . The bias is 1410.8692878510474 . The treatment effect is 0.5077098732158065\n"
     ]
    }
   ],
   "source": [
    "slope_estimates = []\n",
    "res.params[1]\n",
    "a = .5\n",
    "b = 1.2\n",
    "n = 100\n",
    "corr=.5\n",
    "for mc_replication in range(1000):\n",
    "    T = np.random.randint(0,2,n)\n",
    "    X = np.random.randint(0,10,n)\n",
    "    e = np.random.normal(0,1,n)\n",
    "    # now there is a covariate that also impacts Y that we control for\n",
    "    Y = a+b*T+corr*X+e\n",
    "    # because of covariate we add X to the dataframe for regression\n",
    "    data = pd.DataFrame({'T':T, 'X':X})\n",
    "    mod = sm.OLS(Y, sm.add_constant(data))\n",
    "    res = mod.fit()\n",
    "    slope_estimates = slope_estimates + [res.params[0]]\n",
    "    bias  = b - res.params[1]\n",
    "    sum_of_bias= sum_of_bias+bias\n",
    "meanbias= np.mean(sum_of_bias)\n",
    "rsme =  np.sqrt(np.mean(sum_of_bias**2))\n",
    "treatment_effect = sum(slope_estimates) / len(slope_estimates)\n",
    "print(\"The RSME is\", rsme,\". The bias is\", meanbias,\". The treatment effect is\", treatment_effect)"
   ]
  },
  {
   "cell_type": "markdown",
   "id": "ee342d6b",
   "metadata": {},
   "source": [
    "Monte Carlo 1000"
   ]
  },
  {
   "cell_type": "code",
   "execution_count": 16,
   "id": "7a54e1ba",
   "metadata": {
    "scrolled": true
   },
   "outputs": [
    {
     "name": "stdout",
     "output_type": "stream",
     "text": [
      "The RSME is 1404.8827865877545 . The bias is 1404.8827865877545 . The treatment effect is 0.4895510311707833\n"
     ]
    }
   ],
   "source": [
    "slope_estimates = []\n",
    "res.params[1]\n",
    "a = .5\n",
    "b = 1.2\n",
    "n = 100\n",
    "corr=.5\n",
    "for mc_replication in range(1000):\n",
    "    T = np.random.randint(0,2,n)\n",
    "    X = np.random.randint(0,10,n)\n",
    "    e = np.random.normal(0,1,n)\n",
    "    Y = a+b*T+corr*X+e\n",
    "    data = pd.DataFrame({'T':T, 'X':X})\n",
    "    mod = sm.OLS(Y, sm.add_constant(data))\n",
    "    res = mod.fit()\n",
    "    slope_estimates = slope_estimates + [res.params[0]]\n",
    "    bias  = b - res.params[1]\n",
    "    sum_of_bias= sum_of_bias+bias\n",
    "meanbias= np.mean(sum_of_bias)\n",
    "rsme =  np.sqrt(np.mean(sum_of_bias**2))\n",
    "treatment_effect = sum(slope_estimates) / len(slope_estimates)\n",
    "print(\"The RSME is\", rsme,\". The bias is\", meanbias,\". The treatment effect is\", treatment_effect)"
   ]
  },
  {
   "cell_type": "code",
   "execution_count": 14,
   "id": "62e59a78",
   "metadata": {},
   "outputs": [
    {
     "data": {
      "text/plain": [
       "(array([  1.,   7.,  32.,  76., 206., 236., 240., 143.,  50.,   9.]),\n",
       " array([0.2609522 , 0.40652323, 0.55209425, 0.69766528, 0.8432363 ,\n",
       "        0.98880733, 1.13437835, 1.27994937, 1.4255204 , 1.57109142,\n",
       "        1.71666245]),\n",
       " <BarContainer object of 10 artists>)"
      ]
     },
     "execution_count": 14,
     "metadata": {},
     "output_type": "execute_result"
    },
    {
     "data": {
      "image/png": "[encoded data removed]",
      "text/plain": [
       "<Figure size 432x288 with 1 Axes>"
      ]
     },
     "metadata": {
      "needs_background": "light"
     },
     "output_type": "display_data"
    }
   ],
   "source": [
    "plt.hist(slope_estimates)"
   ]
  },
  {
   "cell_type": "markdown",
   "id": "d105c190",
   "metadata": {},
   "source": [
    "REAL LIFE EXAMPLE"
   ]
  },
  {
   "cell_type": "markdown",
   "id": "4b2d5f54",
   "metadata": {},
   "source": [
    "A random experiment is run to test if a medication is effective. A random portion of the population is chosen via lottery and treatment is randomized based on that lottery. In the case of no covariates, a regression is run on the health outcome and if the participant recieved treatment (t=1) or a placebo. In the case of covariates, the same regression is run, but now they add other descriptive factors about the patients, such as sex, age, weight, etc."
   ]
  }
 ],
 "metadata": {
  "kernelspec": {
   "display_name": "Python 3 (ipykernel)",
   "language": "python",
   "name": "python3"
  },
  "language_info": {
   "codemirror_mode": {
    "name": "ipython",
    "version": 3
   },
   "file_extension": ".py",
   "mimetype": "text/x-python",
   "name": "python",
   "nbconvert_exporter": "python",
   "pygments_lexer": "ipython3",
   "version": "3.9.7"
  }
 },
 "nbformat": 4,
 "nbformat_minor": 5
}
