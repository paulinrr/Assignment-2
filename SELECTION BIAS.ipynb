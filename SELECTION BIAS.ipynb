{
 "cells": [
  {
   "cell_type": "code",
   "execution_count": 43,
   "id": "415dcb08",
   "metadata": {},
   "outputs": [],
   "source": [
    "import pandas as pd\n",
    "import numpy as np\n",
    "import random\n",
    "import matplotlib.pyplot as plt\n",
    "import statsmodels.api as sm\n",
    "import networkx as nx\n",
    "import math"
   ]
  },
  {
   "cell_type": "markdown",
   "id": "72d67815",
   "metadata": {},
   "source": [
    "$Y_i = a+b*X_i+e_i$"
   ]
  },
  {
   "cell_type": "code",
   "execution_count": 44,
   "id": "c3bdef55",
   "metadata": {
    "scrolled": true
   },
   "outputs": [
    {
     "data": {
      "image/png": "[encoded data removed]",
      "text/plain": [
       "<Figure size 432x288 with 1 Axes>"
      ]
     },
     "metadata": {},
     "output_type": "display_data"
    }
   ],
   "source": [
    "graph = nx.DiGraph()\n",
    "graph.add_edges_from([(\"T\", \"Y\"), (\"e\", \"Y\"), (\"T\", \"X\"), (\"Y\", \"X\")])\n",
    "plt.tight_layout()\n",
    "nx.draw_networkx(graph, arrows=True)\n",
    "plt.savefig(\"g1.png\", format=\"PNG\")"
   ]
  },
  {
   "cell_type": "markdown",
   "id": "72f017cb",
   "metadata": {},
   "source": [
    "No Control for Var in Path"
   ]
  },
  {
   "cell_type": "code",
   "execution_count": 52,
   "id": "06e6a658",
   "metadata": {},
   "outputs": [
    {
     "name": "stdout",
     "output_type": "stream",
     "text": [
      "The RSME is 3.4087824080637814 . The bias is 3.4087824080637814 . The treatment effect is 1.1659121759193622\n"
     ]
    },
    {
     "data": {
      "image/png": "[encoded data removed]",
      "text/plain": [
       "<Figure size 432x288 with 1 Axes>"
      ]
     },
     "metadata": {
      "needs_background": "light"
     },
     "output_type": "display_data"
    }
   ],
   "source": [
    "a = .5\n",
    "b = 1.2\n",
    "c = 2\n",
    "n = 100\n",
    "slopes = []\n",
    "sum_of_bias=0\n",
    "for mc in range(100):\n",
    "    T = np.random.normal(0,1,n)\n",
    "    e = np.random.normal(0,10,n)\n",
    "    Y = a+b*T + e\n",
    "    # X is correlated both with treatment and outcome Y\n",
    "    X = .3 + .3 * T + .4 * Y\n",
    "    # not controlling for X in this regression\n",
    "    model = sm.OLS(Y,sm.add_constant(T))\n",
    "    residuals = model.fit()\n",
    "    slopes = slopes + [residuals.params[1]]\n",
    "    bias  = b - residuals.params[1]\n",
    "    sum_of_bias= sum_of_bias+bias\n",
    "np.mean(slopes)\n",
    "plt.hist(slopes)\n",
    "meanbias= np.mean(sum_of_bias)\n",
    "rsme =  np.sqrt(np.mean(sum_of_bias**2))\n",
    "treatment_effect = sum(slopes) / len(slopes)\n",
    "print(\"The RSME is\", rsme,\". The bias is\", meanbias,\". The treatment effect is\", treatment_effect)"
   ]
  },
  {
   "cell_type": "code",
   "execution_count": 53,
   "id": "5cc09c36",
   "metadata": {},
   "outputs": [
    {
     "name": "stdout",
     "output_type": "stream",
     "text": [
      "The RSME is 3.1858054620808605 . The bias is 3.1858054620808605 . The treatment effect is 1.19681419453792\n",
      "The RSME is 3.1858054620808605 . The bias is 3.1858054620808605 . The treatment effect is 1.19681419453792\n"
     ]
    },
    {
     "data": {
      "image/png": "[encoded data removed]",
      "text/plain": [
       "<Figure size 432x288 with 1 Axes>"
      ]
     },
     "metadata": {
      "needs_background": "light"
     },
     "output_type": "display_data"
    }
   ],
   "source": [
    "a = .5\n",
    "b = 1.2\n",
    "c = 2\n",
    "n = 1000\n",
    "slopes = []\n",
    "sum_of_bias=0\n",
    "for mc in range(1000):\n",
    "    T = np.random.normal(0,1,n)\n",
    "    e = np.random.normal(0,10,n)\n",
    "    Y = a+b*T + e\n",
    "    # X is correlated both with treatment and outcome Y\n",
    "    X = .3 + .3 * T + .4 * Y\n",
    "    # not controlling for X in this regression\n",
    "    model = sm.OLS(Y,sm.add_constant(T))\n",
    "    residuals = model.fit()\n",
    "    slopes = slopes + [residuals.params[1]]\n",
    "    bias  = b - residuals.params[1]\n",
    "    sum_of_bias= sum_of_bias+bias\n",
    "np.mean(slopes)\n",
    "plt.hist(slopes)\n",
    "meanbias= np.mean(sum_of_bias)\n",
    "rsme =  np.sqrt(np.mean(sum_of_bias**2))\n",
    "treatment_effect = sum(slopes) / len(slopes)\n",
    "print(\"The RSME is\", rsme,\". The bias is\", meanbias,\". The treatment effect is\", treatment_effect)"
   ]
  },
  {
   "cell_type": "markdown",
   "id": "aa63e38a",
   "metadata": {},
   "source": [
    "Control for Var in path"
   ]
  },
  {
   "cell_type": "code",
   "execution_count": 54,
   "id": "10172ad4",
   "metadata": {},
   "outputs": [
    {
     "name": "stderr",
     "output_type": "stream",
     "text": [
      "/Users/polly/opt/anaconda3/lib/python3.9/site-packages/statsmodels/tsa/tsatools.py:142: FutureWarning: In a future version of pandas all arguments of concat except for the argument 'objs' will be keyword-only\n",
      "  x = pd.concat(x[::order], 1)\n"
     ]
    },
    {
     "name": "stdout",
     "output_type": "stream",
     "text": [
      "The RSME is 194.99999999999977 . The bias is 194.99999999999977 . The treatment effect is -0.7499999999999999\n"
     ]
    },
    {
     "data": {
      "image/png": "[encoded data removed]",
      "text/plain": [
       "<Figure size 432x288 with 1 Axes>"
      ]
     },
     "metadata": {
      "needs_background": "light"
     },
     "output_type": "display_data"
    }
   ],
   "source": [
    "a = .5\n",
    "b = 1.2\n",
    "c = 2\n",
    "n = 100\n",
    "slopes = []\n",
    "sum_of_bias=0\n",
    "for mc in range(100):\n",
    "    T = np.random.normal(0,1,n)\n",
    "    e = np.random.normal(0,10,n)\n",
    "    Y = a+b*T + e\n",
    "    X = .3 + .3 * T + .4 * Y\n",
    "    # now we are controlling for X by adding it as a covariate. should bias effects\n",
    "    data = pd.DataFrame({'T':T, 'X':X})\n",
    "    model = sm.OLS(Y,sm.add_constant(data))\n",
    "    residuals = model.fit()\n",
    "    slopes = slopes + [residuals.params[1]]\n",
    "    bias  = b - residuals.params[1]\n",
    "    sum_of_bias= sum_of_bias+bias\n",
    "np.mean(slopes)\n",
    "plt.hist(slopes)\n",
    "meanbias= np.mean(sum_of_bias)\n",
    "rsme =  np.sqrt(np.mean(sum_of_bias**2))\n",
    "treatment_effect = sum(slopes) / len(slopes)\n",
    "print(\"The RSME is\", rsme,\". The bias is\", meanbias,\". The treatment effect is\", treatment_effect)"
   ]
  },
  {
   "cell_type": "code",
   "execution_count": 56,
   "id": "216514a5",
   "metadata": {},
   "outputs": [
    {
     "name": "stdout",
     "output_type": "stream",
     "text": [
      "The RSME is 194.9999999999998 . The bias is 194.9999999999998 . The treatment effect is -0.7500000000000001\n"
     ]
    },
    {
     "data": {
      "image/png": "[encoded data removed]",
      "text/plain": [
       "<Figure size 432x288 with 1 Axes>"
      ]
     },
     "metadata": {
      "needs_background": "light"
     },
     "output_type": "display_data"
    }
   ],
   "source": [
    "a = .5\n",
    "b = 1.2\n",
    "c = 2\n",
    "n = 100\n",
    "slopes = []\n",
    "sum_of_bias=0\n",
    "for mc in range(100):\n",
    "    T = np.random.normal(0,1,n)\n",
    "    e = np.random.normal(0,10,n)\n",
    "    Y = a+b*T + e\n",
    "    X = .3 + .3 * T + .4 * Y\n",
    "    # now we are controlling for X by adding it as a covariate. should bias effects\n",
    "    data = pd.DataFrame({'T':T, 'X':X})\n",
    "    model = sm.OLS(Y,sm.add_constant(data))\n",
    "    residuals = model.fit()\n",
    "    slopes = slopes + [residuals.params[1]]\n",
    "    bias  = b - residuals.params[1]\n",
    "    sum_of_bias= sum_of_bias+bias\n",
    "np.mean(slopes)\n",
    "plt.hist(slopes)\n",
    "meanbias= np.mean(sum_of_bias)\n",
    "rsme =  np.sqrt(np.mean(sum_of_bias**2))\n",
    "treatment_effect = sum(slopes) / len(slopes)\n",
    "print(\"The RSME is\", rsme,\". The bias is\", meanbias,\". The treatment effect is\", treatment_effect)"
   ]
  },
  {
   "cell_type": "markdown",
   "id": "073fab8e",
   "metadata": {},
   "source": [
    "REAL LIFE EXAMPLE"
   ]
  },
  {
   "cell_type": "markdown",
   "id": "c2c8ea6a",
   "metadata": {},
   "source": [
    "Selection bias is when you control for too many variables, including variables that may be a consequence of the treatment and outcome. So, in an example where you are trying to determine the effect of education on wage, say you control for investment. However, it is likely that people with more education are more likely to invest and that people who earn more are more likely to invest. Thus, y effects investment and T effects invesment. So, you introduce bias to your causal effect."
   ]
  }
 ],
 "metadata": {
  "kernelspec": {
   "display_name": "Python 3 (ipykernel)",
   "language": "python",
   "name": "python3"
  },
  "language_info": {
   "codemirror_mode": {
    "name": "ipython",
    "version": 3
   },
   "file_extension": ".py",
   "mimetype": "text/x-python",
   "name": "python",
   "nbconvert_exporter": "python",
   "pygments_lexer": "ipython3",
   "version": "3.9.7"
  }
 },
 "nbformat": 4,
 "nbformat_minor": 5
}
