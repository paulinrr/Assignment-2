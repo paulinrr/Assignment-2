{
 "cells": [
  {
   "cell_type": "code",
   "execution_count": 1,
   "id": "0da7ae98",
   "metadata": {},
   "outputs": [],
   "source": [
    "import pandas as pd\n",
    "import numpy as np\n",
    "import random\n",
    "import matplotlib.pyplot as plt\n",
    "import statsmodels.api as sm\n",
    "import networkx as nx"
   ]
  },
  {
   "cell_type": "markdown",
   "id": "17ab9a1c",
   "metadata": {},
   "source": [
    "$Y_i = a+b*T_i+e_i$"
   ]
  },
  {
   "cell_type": "code",
   "execution_count": 2,
   "id": "5f47d5b1",
   "metadata": {
    "scrolled": true
   },
   "outputs": [
    {
     "data": {
      "image/png": "[encoded data removed]",
      "text/plain": [
       "<Figure size 432x288 with 1 Axes>"
      ]
     },
     "metadata": {},
     "output_type": "display_data"
    }
   ],
   "source": [
    "graph = nx.DiGraph()\n",
    "# confounder influences both the treatment and the outcome. Like IQ impact on education makes it hard to measure effect of education on wage\n",
    "graph.add_edges_from([(\"T\", \"Y\"), (\"e\", \"Y\"), (\"confounder\", \"Y\"), (\"confounder\", \"T\")])\n",
    "plt.tight_layout()\n",
    "nx.draw_networkx(graph, arrows=True)\n",
    "plt.savefig(\"g1.png\", format=\"PNG\")"
   ]
  },
  {
   "cell_type": "markdown",
   "id": "bc1b42c9",
   "metadata": {},
   "source": [
    "Without Contol"
   ]
  },
  {
   "cell_type": "code",
   "execution_count": 20,
   "id": "f49cc57c",
   "metadata": {},
   "outputs": [
    {
     "name": "stdout",
     "output_type": "stream",
     "text": [
      "The RSME is 664.7929315987674 . The bias is -664.7929315987674 . The treatment effect is 7.8479293159876695\n"
     ]
    },
    {
     "data": {
      "image/png": "[encoded data removed]",
      "text/plain": [
       "<Figure size 432x288 with 1 Axes>"
      ]
     },
     "metadata": {
      "needs_background": "light"
     },
     "output_type": "display_data"
    }
   ],
   "source": [
    "a = .5\n",
    "b = 1.2\n",
    "c = 2\n",
    "n = 100\n",
    "slopes = []\n",
    "sum_of_bias=0\n",
    "for mc in range(100):\n",
    "    X = np.random.normal(0,10,n)\n",
    "    # treatment is correlated with confounder X. Here it is correlated by .3 so not random assignment\n",
    "    T = .3 + .3 * X\n",
    "    e = np.random.normal(0,10,n)\n",
    "    # not controlling for X in this regression\n",
    "    Y = a+b*T + c*X + e\n",
    "    model = sm.OLS(Y,sm.add_constant(T))\n",
    "    residuals = model.fit()\n",
    "    slopes = slopes + [residuals.params[1]]\n",
    "    bias  = b - residuals.params[1]\n",
    "    sum_of_bias= sum_of_bias+bias\n",
    "np.mean(slopes)\n",
    "plt.hist(slopes)\n",
    "meanbias= np.mean(sum_of_bias)\n",
    "rsme =  np.sqrt(np.mean(sum_of_bias**2))\n",
    "treatment_effect = sum(slopes) / len(slopes)\n",
    "print(\"The RSME is\", rsme,\". The bias is\", meanbias,\". The treatment effect is\", treatment_effect)"
   ]
  },
  {
   "cell_type": "code",
   "execution_count": 21,
   "id": "8c8a2d8d",
   "metadata": {},
   "outputs": [
    {
     "name": "stdout",
     "output_type": "stream",
     "text": [
      "The RSME is 6663.262299399331 . The bias is -6663.262299399331 . The treatment effect is 7.8632622993993415\n"
     ]
    },
    {
     "data": {
      "image/png": "[encoded data removed]",
      "text/plain": [
       "<Figure size 432x288 with 1 Axes>"
      ]
     },
     "metadata": {
      "needs_background": "light"
     },
     "output_type": "display_data"
    }
   ],
   "source": [
    "a = .5\n",
    "b = 1.2\n",
    "c = 2\n",
    "n = 1000\n",
    "slopes = []\n",
    "sum_of_bias=0\n",
    "for mc in range(1000):\n",
    "    X = np.random.normal(0,10,n)\n",
    "    T = .3 + .3 * X\n",
    "    e = np.random.normal(0,10,n)\n",
    "    Y = a+b*T + c*X +e\n",
    "    model = sm.OLS(Y,sm.add_constant(T))\n",
    "    residuals = model.fit()\n",
    "    slopes = slopes + [residuals.params[1]]\n",
    "    bias  = b - residuals.params[1]\n",
    "    sum_of_bias= sum_of_bias+bias\n",
    "np.mean(slopes)\n",
    "plt.hist(slopes)\n",
    "meanbias= np.mean(sum_of_bias)\n",
    "rsme =  np.sqrt(np.mean(sum_of_bias**2))\n",
    "treatment_effect = sum(slopes) / len(slopes)\n",
    "print(\"The RSME is\", rsme,\". The bias is\", meanbias,\". The treatment effect is\", treatment_effect)"
   ]
  },
  {
   "cell_type": "markdown",
   "id": "17edfd99",
   "metadata": {},
   "source": [
    "With Control"
   ]
  },
  {
   "cell_type": "code",
   "execution_count": 27,
   "id": "6d7b60c8",
   "metadata": {},
   "outputs": [
    {
     "name": "stderr",
     "output_type": "stream",
     "text": [
      "/Users/polly/opt/anaconda3/lib/python3.9/site-packages/statsmodels/tsa/tsatools.py:142: FutureWarning: In a future version of pandas all arguments of concat except for the argument 'objs' will be keyword-only\n",
      "  x = pd.concat(x[::order], 1)\n"
     ]
    },
    {
     "name": "stdout",
     "output_type": "stream",
     "text": [
      "The RSME is 36.274226772749536 . The bias is 36.274226772749536 . The treatment effect is 0.8372577322725047\n"
     ]
    },
    {
     "data": {
      "image/png": "[encoded data removed]",
      "text/plain": [
       "<Figure size 432x288 with 1 Axes>"
      ]
     },
     "metadata": {
      "needs_background": "light"
     },
     "output_type": "display_data"
    }
   ],
   "source": [
    "a = .5\n",
    "b = 1.2\n",
    "c = 2\n",
    "n = 100\n",
    "slopes = []\n",
    "sum_of_bias=0\n",
    "for mc in range(100):\n",
    "    X = np.random.normal(0,10,n)\n",
    "    # again, treatment is impacted by X\n",
    "    T = .3 + .3 * X\n",
    "    e = np.random.normal(0,10,n)\n",
    "    # here, we control for X. So, in measuring edu impact on wage, we control for IQ as well\n",
    "    Y = a+b*T + c*X + e\n",
    "    # data now consists of T and X to allow for control\n",
    "    data = pd.DataFrame({'T':T, 'X':X})\n",
    "    model = sm.OLS(Y,sm.add_constant(data))\n",
    "    residuals = model.fit()\n",
    "    slopes = slopes + [residuals.params[1]]\n",
    "    bias  = b - residuals.params[1]\n",
    "    sum_of_bias= sum_of_bias+bias\n",
    "np.mean(slopes)\n",
    "plt.hist(slopes)\n",
    "meanbias= np.mean(sum_of_bias)\n",
    "rsme =  np.sqrt(np.mean(sum_of_bias**2))\n",
    "treatment_effect = sum(slopes) / len(slopes)\n",
    "print(\"The RSME is\", rsme,\". The bias is\", meanbias,\". The treatment effect is\", treatment_effect)"
   ]
  },
  {
   "cell_type": "code",
   "execution_count": 19,
   "id": "409b87c4",
   "metadata": {},
   "outputs": [
    {
     "name": "stdout",
     "output_type": "stream",
     "text": [
      "The RSME is 6666.216929709472 . The bias is -6666.216929709472 . The treatment effect is 7.866216929709471\n"
     ]
    },
    {
     "data": {
      "image/png": "[encoded data removed]",
      "text/plain": [
       "<Figure size 432x288 with 1 Axes>"
      ]
     },
     "metadata": {
      "needs_background": "light"
     },
     "output_type": "display_data"
    }
   ],
   "source": [
    "a = .5\n",
    "b = 1.2\n",
    "c = 2\n",
    "n = 1000\n",
    "slopes = []\n",
    "sum_of_bias=0\n",
    "for mc in range(1000):\n",
    "    X = np.random.normal(0,10,n)\n",
    "    # again, treatment is impacted by X\n",
    "    T = .3 + .3 * X\n",
    "    e = np.random.normal(0,10,n)\n",
    "    # here, we control for X. So, in measuring edu impact on wage, we control for IQ as well\n",
    "    Y = a+b*T + c*X + e\n",
    "    data = pd.DataFrame({'T':T, 'X':X})\n",
    "    model = sm.OLS(Y,sm.add_constant(data))\n",
    "    residuals = model.fit()\n",
    "    slopes = slopes + [residuals.params[1]]\n",
    "    bias  = b - residuals.params[1]\n",
    "    sum_of_bias= sum_of_bias+bias\n",
    "np.mean(slopes)\n",
    "plt.hist(slopes)\n",
    "meanbias= np.mean(sum_of_bias)\n",
    "rsme =  np.sqrt(np.mean(sum_of_bias**2))\n",
    "treatment_effect = sum(slopes) / len(slopes)\n",
    "print(\"The RSME is\", rsme,\". The bias is\", meanbias,\". The treatment effect is\", treatment_effect)"
   ]
  },
  {
   "cell_type": "markdown",
   "id": "1c0dfa34",
   "metadata": {},
   "source": [
    "REAL LIFE EXAMPLE"
   ]
  },
  {
   "cell_type": "markdown",
   "id": "3ad0dfd9",
   "metadata": {},
   "source": [
    "Confounding bias is when there is a confounding variable that impacts both the treatment and outcome variable. For example, economists often run into this problem when trying to determine the effect of education on wage. That is because there is the confounding influence of intelligence, which is hard to measure. Being more intelligent probably makes your more likely to get educated and get a higher wage. So, if you can't control for intelligence, you will have too large of an estimate for the impact of education"
   ]
  }
 ],
 "metadata": {
  "kernelspec": {
   "display_name": "Python 3 (ipykernel)",
   "language": "python",
   "name": "python3"
  },
  "language_info": {
   "codemirror_mode": {
    "name": "ipython",
    "version": 3
   },
   "file_extension": ".py",
   "mimetype": "text/x-python",
   "name": "python",
   "nbconvert_exporter": "python",
   "pygments_lexer": "ipython3",
   "version": "3.9.7"
  }
 },
 "nbformat": 4,
 "nbformat_minor": 5
}
